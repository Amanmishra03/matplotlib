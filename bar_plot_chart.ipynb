{
 "cells": [
  {
   "cell_type": "markdown",
   "metadata": {},
   "source": [
    "# Bar Plot"
   ]
  },
  {
   "cell_type": "code",
   "execution_count": null,
   "metadata": {},
   "outputs": [],
   "source": [
    "import matplotlib.pyplot as plt\n",
    "import numpy as np"
   ]
  },
  {
   "cell_type": "code",
   "execution_count": null,
   "metadata": {},
   "outputs": [],
   "source": [
    "x = [\"python\", \"c\", \"c++\", \"java\"]\n",
    "y = [85, 70, 60, 82]\n",
    "c = [\"r\", \"y\", \"g\", \"b\"]\n",
    "plt.bar(x,y, color=c)\n",
    "plt.show()"
   ]
  },
  {
   "cell_type": "code",
   "execution_count": null,
   "metadata": {},
   "outputs": [],
   "source": [
    "x = [\"python\", \"c\", \"c++\", \"java\"]\n",
    "y = [85, 70, 60, 82]\n",
    "plt.xlabel(\"language\", fontsize=15)\n",
    "plt.ylabel(\"No.\",fontsize=15)\n",
    "plt.title(\"wscube\",fontsize=20)\n",
    "c  = [\"y\", \"b\", \"m\", \"g\"]\n",
    "plt.bar(x,y, width=0.4, color = c, align=\"edge\", edgecolor= \"r\", linewidth= 5, linestyle= \":\",alpha=0.5)\n",
    "plt.show()"
   ]
  },
  {
   "cell_type": "code",
   "execution_count": null,
   "metadata": {},
   "outputs": [],
   "source": [
    "x = [\"python\", \"c\", \"c++\", \"java\"]\n",
    "y = [85, 70, 60, 82]\n",
    "plt.xlabel(\"language\", fontsize=15)\n",
    "plt.ylabel(\"No.\",fontsize=15)\n",
    "plt.title(\"wscube\",fontsize=20)\n",
    "c  = [\"y\", \"b\", \"m\", \"g\"]\n",
    "plt.bar(x,y, width=0.4, color = c, label=\"popularity\")\n",
    "plt.legend()\n",
    "plt.show()"
   ]
  },
  {
   "cell_type": "code",
   "execution_count": null,
   "metadata": {},
   "outputs": [],
   "source": [
    "x = [\"python\", \"c\", \"c++\", \"java\"]\n",
    "y = [85, 70, 60, 82]\n",
    "z = [20, 30, 40, 50]\n",
    "\n",
    "width = 0.2\n",
    "p = np.arange(len(x))\n",
    "p1 = [j+width for j in p]\n",
    "\n",
    "plt.xlabel(\"language\", fontsize=10)\n",
    "plt.ylabel(\"No.\",fontsize=10)\n",
    "plt.title(\"Bar graph\",fontsize=10)\n",
    "\n",
    "plt.bar(p,y, width, color = \"b\", label=\"popularity\")\n",
    "plt.bar(p1,z, width, color= 'm', label=\"popularity\")\n",
    "\n",
    "plt.xticks(p+width/2, x, rotation=20)\n",
    "plt.legend()\n",
    "plt.show()"
   ]
  },
  {
   "cell_type": "markdown",
   "metadata": {},
   "source": [
    "# for horizontal bar graph\n",
    "- we use plt.barh"
   ]
  },
  {
   "cell_type": "code",
   "execution_count": null,
   "metadata": {},
   "outputs": [],
   "source": [
    "x = [\"python\", \"c\", \"c++\", \"java\"]\n",
    "y = [85, 70, 60, 82]\n",
    "z = [20, 30, 40, 50]\n",
    "\n",
    "width = 0.2\n",
    "p = np.arange(len(x))\n",
    "p1 = [j+width for j in p]\n",
    "\n",
    "plt.xlabel(\"language\", fontsize=10)\n",
    "plt.ylabel(\"No.\",fontsize=10)\n",
    "plt.title(\"Bar graph\",fontsize=10)\n",
    "\n",
    "plt.barh(p,y, width, color = \"b\", label=\"popularity\")\n",
    "plt.barh(p1,z, width, color= 'm', label=\"popularity\")\n",
    "\n",
    "plt.xticks(p+width/2, x, rotation=20)\n",
    "plt.legend()\n",
    "plt.show()"
   ]
  },
  {
   "cell_type": "code",
   "execution_count": null,
   "metadata": {},
   "outputs": [],
   "source": [
    "x = [\"python\", \"c\", \"c++\", \"java\"]\n",
    "y = [85, 70, 60, 82]\n",
    "c = [\"r\", \"y\", \"g\", \"b\"]\n",
    "a = x[3]\n",
    "b = y[3]\n",
    "plt.bar(a,b)\n",
    "# plt.bar(x,y, color=c)\n",
    "plt.show()"
   ]
  }
 ],
 "metadata": {
  "kernelspec": {
   "display_name": "base",
   "language": "python",
   "name": "python3"
  },
  "language_info": {
   "codemirror_mode": {
    "name": "ipython",
    "version": 3
   },
   "file_extension": ".py",
   "mimetype": "text/x-python",
   "name": "python",
   "nbconvert_exporter": "python",
   "pygments_lexer": "ipython3",
   "version": "3.11.4"
  }
 },
 "nbformat": 4,
 "nbformat_minor": 2
}
